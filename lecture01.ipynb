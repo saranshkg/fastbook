{
  "nbformat": 4,
  "nbformat_minor": 0,
  "metadata": {
    "colab": {
      "provenance": [],
      "authorship_tag": "ABX9TyMFcdg9HcdYEcoE3cmnOeHz",
      "include_colab_link": true
    },
    "kernelspec": {
      "name": "python3",
      "display_name": "Python 3"
    },
    "language_info": {
      "name": "python"
    }
  },
  "cells": [
    {
      "cell_type": "markdown",
      "metadata": {
        "id": "view-in-github",
        "colab_type": "text"
      },
      "source": [
        "<a href=\"https://colab.research.google.com/github/saranshkg/fastbook/blob/master/lecture01.ipynb\" target=\"_parent\"><img src=\"https://colab.research.google.com/assets/colab-badge.svg\" alt=\"Open In Colab\"/></a>"
      ]
    },
    {
      "cell_type": "markdown",
      "source": [
        "# Notes from Lesson 1"
      ],
      "metadata": {
        "id": "9mCU2FcetH66"
      }
    },
    {
      "cell_type": "markdown",
      "source": [
        "| Myth (don't need) | Truth |\n",
        "|----------|----------|\n",
        "| Lots of math | High school math is sufficient |\n",
        "| Lots of data   | We've seen record-breaking results with less than 50 items of data |\n",
        "| Lots of expensive computers | You can get what you need for state-of-the-art work for free |\n",
        "\n",
        "\n",
        "\n",
        "*   Usually big tech companies propogate these myths to make more money or discourage competition\n",
        "\n"
      ],
      "metadata": {
        "id": "rlCe7xh3sPfr"
      }
    },
    {
      "cell_type": "markdown",
      "source": [
        "Tensorflow is a minority now - dying since 2018 - compared to Pytorch (which is continuously growing). Reason being the ease of use - Pytorch is easier to pick and experiment with and research commmunity prefers it"
      ],
      "metadata": {
        "id": "IsAxTyk6tNRD"
      }
    },
    {
      "cell_type": "markdown",
      "source": [
        "fastai library is built on Pytorch to simplify and blackbox a bunch of reusable things"
      ],
      "metadata": {
        "id": "CRUQlx52vcs8"
      }
    },
    {
      "cell_type": "markdown",
      "source": [
        "## Is it a bird?"
      ],
      "metadata": {
        "id": "jIccGz_QvOso"
      }
    },
    {
      "cell_type": "code",
      "source": [
        "#NB: Kaggle requires phone verification to use the internet or a GPU. If you haven't done that yet, the cell below will fail\n",
        "#    This code is only here to check that your internet is enabled. It doesn't do anything else.\n",
        "#    Here's a help thread on getting your phone number verified: https://www.kaggle.com/product-feedback/135367\n",
        "\n",
        "import socket,warnings\n",
        "try:\n",
        "    socket.setdefaulttimeout(1)\n",
        "    socket.socket(socket.AF_INET, socket.SOCK_STREAM).connect(('1.1.1.1', 53))\n",
        "except socket.error as ex: raise Exception(\"STOP: No internet. Click '>|' in top right and set 'Internet' switch to on\")"
      ],
      "metadata": {
        "execution": {
          "iopub.status.busy": "2024-10-05T06:32:15.561526Z",
          "iopub.execute_input": "2024-10-05T06:32:15.561922Z",
          "iopub.status.idle": "2024-10-05T06:32:15.580473Z",
          "shell.execute_reply.started": "2024-10-05T06:32:15.561878Z",
          "shell.execute_reply": "2024-10-05T06:32:15.579461Z"
        },
        "trusted": true,
        "id": "0ikX8hTZvOsp"
      },
      "execution_count": null,
      "outputs": []
    },
    {
      "cell_type": "code",
      "source": [
        "# It's a good idea to ensure you're running the latest version of any libraries you need.\n",
        "# `!pip install -Uqq <libraries>` upgrades to the latest version of <libraries>\n",
        "# NB: You can safely ignore any warnings or errors pip spits out about running as root or incompatibilities\n",
        "import os\n",
        "iskaggle = os.environ.get('KAGGLE_KERNEL_RUN_TYPE', '')\n",
        "\n",
        "if iskaggle:\n",
        "    !pip install -Uqq fastai 'duckduckgo_search>=6.2'"
      ],
      "metadata": {
        "_kg_hide-input": true,
        "_kg_hide-output": true,
        "execution": {
          "iopub.status.busy": "2024-10-05T06:32:15.584245Z",
          "iopub.execute_input": "2024-10-05T06:32:15.584851Z",
          "iopub.status.idle": "2024-10-05T06:32:29.058462Z",
          "shell.execute_reply.started": "2024-10-05T06:32:15.584803Z",
          "shell.execute_reply": "2024-10-05T06:32:29.057169Z"
        },
        "trusted": true,
        "id": "0qq8BpUdvOsr"
      },
      "execution_count": null,
      "outputs": []
    },
    {
      "cell_type": "markdown",
      "source": [
        "In 2015 the idea of creating a computer system that could recognise birds was considered so outrageously challenging that it was the basis of [this XKCD joke](https://xkcd.com/1425/):"
      ],
      "metadata": {
        "id": "GcSWlm6PvOsr"
      }
    },
    {
      "cell_type": "markdown",
      "source": [
        "![image.png](attachment:a0483178-c30e-4fdd-b2c2-349e130ab260.png)"
      ],
      "metadata": {
        "id": "Ms2R-YnZvOsr"
      }
    },
    {
      "cell_type": "markdown",
      "source": [
        "But today, we can do exactly that, in just a few minutes, using entirely free resources!\n",
        "\n",
        "The basic steps we'll take are:\n",
        "\n",
        "1. Use DuckDuckGo to search for images of \"bird photos\"\n",
        "1. Use DuckDuckGo to search for images of \"forest photos\"\n",
        "1. Fine-tune a pretrained neural network to recognise these two groups\n",
        "1. Try running this model on a picture of a bird and see if it works."
      ],
      "metadata": {
        "id": "ckaqhDGMvOss"
      }
    },
    {
      "cell_type": "markdown",
      "source": [
        "## Step 1: Download images of birds and non-birds"
      ],
      "metadata": {
        "id": "Ivwd7qHsvOss"
      }
    },
    {
      "cell_type": "code",
      "source": [
        "from duckduckgo_search import DDGS #DuckDuckGo has changed the api so we need to update\n",
        "from fastcore.all import *\n",
        "\n",
        "def search_images(keywords, max_images=200): return L(DDGS().images(keywords, max_results=max_images)).itemgot('image')\n",
        "import time, json"
      ],
      "metadata": {
        "_kg_hide-input": true,
        "execution": {
          "iopub.status.busy": "2024-10-05T06:32:32.019448Z",
          "iopub.execute_input": "2024-10-05T06:32:32.02023Z",
          "iopub.status.idle": "2024-10-05T06:32:32.114253Z",
          "shell.execute_reply.started": "2024-10-05T06:32:32.020188Z",
          "shell.execute_reply": "2024-10-05T06:32:32.113471Z"
        },
        "trusted": true,
        "id": "g1abhlxwvOst"
      },
      "execution_count": null,
      "outputs": []
    },
    {
      "cell_type": "markdown",
      "source": [
        "Let's start by searching for a bird photo and seeing what kind of result we get. We'll start by getting URLs from a search:"
      ],
      "metadata": {
        "id": "r-QnOeBUvOst"
      }
    },
    {
      "cell_type": "code",
      "source": [
        "#NB: `search_images` depends on duckduckgo.com, which doesn't always return correct responses.\n",
        "#    If you get a JSON error, just try running it again (it may take a couple of tries).\n",
        "urls = search_images('bird photos', max_images=1)\n",
        "urls[0]"
      ],
      "metadata": {
        "execution": {
          "iopub.status.busy": "2024-10-05T06:32:33.914735Z",
          "iopub.execute_input": "2024-10-05T06:32:33.91571Z",
          "iopub.status.idle": "2024-10-05T06:32:34.389026Z",
          "shell.execute_reply.started": "2024-10-05T06:32:33.915666Z",
          "shell.execute_reply": "2024-10-05T06:32:34.387987Z"
        },
        "trusted": true,
        "id": "hZWzE0F4vOsu"
      },
      "execution_count": null,
      "outputs": []
    },
    {
      "cell_type": "markdown",
      "source": [
        "...and then download a URL and take a look at it:"
      ],
      "metadata": {
        "id": "BGMO0j31vOsv"
      }
    },
    {
      "cell_type": "code",
      "source": [
        "from fastdownload import download_url\n",
        "dest = 'bird.jpg'\n",
        "download_url(urls[0], dest, show_progress=False)\n",
        "\n",
        "from fastai.vision.all import *\n",
        "im = Image.open(dest)\n",
        "im.to_thumb(256,256)"
      ],
      "metadata": {
        "execution": {
          "iopub.status.busy": "2024-10-05T06:32:59.367677Z",
          "iopub.execute_input": "2024-10-05T06:32:59.368397Z",
          "iopub.status.idle": "2024-10-05T06:33:08.517197Z",
          "shell.execute_reply.started": "2024-10-05T06:32:59.368352Z",
          "shell.execute_reply": "2024-10-05T06:33:08.516166Z"
        },
        "trusted": true,
        "id": "crOXrp2FvOsw"
      },
      "execution_count": null,
      "outputs": []
    },
    {
      "cell_type": "markdown",
      "source": [
        "Now let's do the same with \"forest photos\":"
      ],
      "metadata": {
        "id": "k9YNiFqZvOsw"
      }
    },
    {
      "cell_type": "code",
      "source": [
        "download_url(search_images('forest photos', max_images=1)[0], 'forest.jpg', show_progress=False)\n",
        "Image.open('forest.jpg').to_thumb(256,256)"
      ],
      "metadata": {
        "execution": {
          "iopub.status.busy": "2024-10-05T06:33:11.962854Z",
          "iopub.execute_input": "2024-10-05T06:33:11.963229Z",
          "iopub.status.idle": "2024-10-05T06:33:12.674357Z",
          "shell.execute_reply.started": "2024-10-05T06:33:11.963197Z",
          "shell.execute_reply": "2024-10-05T06:33:12.673451Z"
        },
        "trusted": true,
        "id": "kgYiLz1fvOsx"
      },
      "execution_count": null,
      "outputs": []
    },
    {
      "cell_type": "markdown",
      "source": [
        "Our searches seem to be giving reasonable results, so let's grab a few examples of each of \"bird\" and \"forest\" photos, and save each group of photos to a different folder:"
      ],
      "metadata": {
        "id": "KqzY3XzivOsx"
      }
    },
    {
      "cell_type": "code",
      "source": [
        "searches = 'forest','bird'\n",
        "path = Path('bird_or_not')\n",
        "\n",
        "for o in searches:\n",
        "    dest = (path/o)\n",
        "    dest.mkdir(exist_ok=True, parents=True)\n",
        "    download_images(dest, urls=search_images(f'{o} photo'))\n",
        "    time.sleep(5)\n",
        "    resize_images(path/o, max_size=400, dest=path/o)"
      ],
      "metadata": {
        "execution": {
          "iopub.status.busy": "2024-10-05T06:34:01.784202Z",
          "iopub.execute_input": "2024-10-05T06:34:01.784888Z",
          "iopub.status.idle": "2024-10-05T06:34:52.752462Z",
          "shell.execute_reply.started": "2024-10-05T06:34:01.784847Z",
          "shell.execute_reply": "2024-10-05T06:34:52.751164Z"
        },
        "trusted": true,
        "id": "jS2vrgPfvOsx"
      },
      "execution_count": null,
      "outputs": []
    },
    {
      "cell_type": "markdown",
      "source": [
        "## Step 2: Train our model"
      ],
      "metadata": {
        "id": "dJov1a6vvOsx"
      }
    },
    {
      "cell_type": "markdown",
      "source": [
        "Some photos might not download correctly which could cause our model training to fail, so we'll remove them:"
      ],
      "metadata": {
        "id": "93XhPm3nvOsx"
      }
    },
    {
      "cell_type": "code",
      "source": [
        "failed = verify_images(get_image_files(path))\n",
        "failed.map(Path.unlink)\n",
        "len(failed)"
      ],
      "metadata": {
        "execution": {
          "iopub.status.busy": "2024-10-05T06:34:52.755094Z",
          "iopub.execute_input": "2024-10-05T06:34:52.755843Z",
          "iopub.status.idle": "2024-10-05T06:34:53.471407Z",
          "shell.execute_reply.started": "2024-10-05T06:34:52.755792Z",
          "shell.execute_reply": "2024-10-05T06:34:53.470312Z"
        },
        "trusted": true,
        "id": "KNWEw1eLvOsx"
      },
      "execution_count": null,
      "outputs": []
    },
    {
      "cell_type": "markdown",
      "source": [
        "To train a model, we'll need `DataLoaders`, which is an object that contains a *training set* (the images used to create a model) and a *validation set* (the images used to check the accuracy of a model -- not used during training). In `fastai` we can create that easily using a `DataBlock`, and view sample images from it:"
      ],
      "metadata": {
        "id": "JPEKLl4qvOsy"
      }
    },
    {
      "cell_type": "code",
      "source": [
        "dls = DataBlock(\n",
        "    blocks=(ImageBlock, CategoryBlock),\n",
        "    get_items=get_image_files,\n",
        "    splitter=RandomSplitter(valid_pct=0.2, seed=42),\n",
        "    get_y=parent_label,\n",
        "    item_tfms=[Resize(192, method='squish')]\n",
        ").dataloaders(path, bs=32)\n",
        "\n",
        "dls.show_batch(max_n=6)"
      ],
      "metadata": {
        "execution": {
          "iopub.status.busy": "2024-10-05T06:34:53.472769Z",
          "iopub.execute_input": "2024-10-05T06:34:53.473134Z",
          "iopub.status.idle": "2024-10-05T06:34:54.726209Z",
          "shell.execute_reply.started": "2024-10-05T06:34:53.47309Z",
          "shell.execute_reply": "2024-10-05T06:34:54.725203Z"
        },
        "trusted": true,
        "id": "Iej-t85EvOsy"
      },
      "execution_count": null,
      "outputs": []
    },
    {
      "cell_type": "markdown",
      "source": [
        "Here what each of the `DataBlock` parameters means:\n",
        "\n",
        "    blocks=(ImageBlock, CategoryBlock),\n",
        "\n",
        "The inputs to our model are images, and the outputs are categories (in this case, \"bird\" or \"forest\").\n",
        "\n",
        "    get_items=get_image_files,\n",
        "\n",
        "To find all the inputs to our model, run the `get_image_files` function (which returns a list of all image files in a path).\n",
        "\n",
        "    splitter=RandomSplitter(valid_pct=0.2, seed=42),\n",
        "\n",
        "Split the data into training and validation sets randomly, using 20% of the data for the validation set.\n",
        "\n",
        "    get_y=parent_label,\n",
        "\n",
        "The labels (`y` values) is the name of the `parent` of each file (i.e. the name of the folder they're in, which will be *bird* or *forest*).\n",
        "\n",
        "    item_tfms=[Resize(192, method='squish')]\n",
        "\n",
        "Before training, resize each image to 192x192 pixels by \"squishing\" it (as opposed to cropping it)."
      ],
      "metadata": {
        "id": "9mVQ80I2vOsy"
      }
    },
    {
      "cell_type": "markdown",
      "source": [
        "Now we're ready to train our model. The fastest widely used computer vision model is `resnet18`. You can train this in a few minutes, even on a CPU! (On a GPU, it generally takes under 10 seconds...)\n",
        "\n",
        "`fastai` comes with a helpful `fine_tune()` method which automatically uses best practices for fine tuning a pre-trained model, so we'll use that."
      ],
      "metadata": {
        "id": "BPAtNs1cvOsy"
      }
    },
    {
      "cell_type": "code",
      "source": [
        "learn = vision_learner(dls, resnet18, metrics=error_rate)\n",
        "learn.fine_tune(3)"
      ],
      "metadata": {
        "execution": {
          "iopub.status.busy": "2024-10-05T06:34:54.728183Z",
          "iopub.execute_input": "2024-10-05T06:34:54.728517Z",
          "iopub.status.idle": "2024-10-05T06:35:02.326546Z",
          "shell.execute_reply.started": "2024-10-05T06:34:54.728483Z",
          "shell.execute_reply": "2024-10-05T06:35:02.325543Z"
        },
        "trusted": true,
        "id": "SkgJ04oLvOsy"
      },
      "execution_count": null,
      "outputs": []
    },
    {
      "cell_type": "markdown",
      "source": [
        "Generally when I run this I see 100% accuracy on the validation set (although it might vary a bit from run to run).\n",
        "\n",
        "\"Fine-tuning\" a model means that we're starting with a model someone else has trained using some other dataset (called the *pretrained model*), and adjusting the weights a little bit so that the model learns to recognise your particular dataset. In this case, the pretrained model was trained to recognise photos in *imagenet*, and widely-used computer vision dataset with images covering 1000 categories) For details on fine-tuning and why it's important, check out the [free fast.ai course](https://course.fast.ai/)."
      ],
      "metadata": {
        "id": "3TRCqaUAvOsz"
      }
    },
    {
      "cell_type": "markdown",
      "source": [
        "## Step 3: Use our model (and build your own!)"
      ],
      "metadata": {
        "id": "P9KjdnoavOsz"
      }
    },
    {
      "cell_type": "markdown",
      "source": [
        "Let's see what our model thinks about that bird we downloaded at the start:"
      ],
      "metadata": {
        "id": "fd6TQuwJvOsz"
      }
    },
    {
      "cell_type": "code",
      "source": [
        "is_bird,_,probs = learn.predict(PILImage.create('bird.jpg'))\n",
        "print(f\"This is a: {is_bird}.\")\n",
        "print(f\"Probability it's a bird: {probs[0]:.4f}\")"
      ],
      "metadata": {
        "execution": {
          "iopub.status.busy": "2024-10-05T06:35:02.327959Z",
          "iopub.execute_input": "2024-10-05T06:35:02.328324Z",
          "iopub.status.idle": "2024-10-05T06:35:02.508034Z",
          "shell.execute_reply.started": "2024-10-05T06:35:02.328287Z",
          "shell.execute_reply": "2024-10-05T06:35:02.507059Z"
        },
        "trusted": true,
        "id": "MLcHcPClvOsz"
      },
      "execution_count": null,
      "outputs": []
    },
    {
      "cell_type": "markdown",
      "source": [
        "Good job, resnet18. :)\n",
        "\n",
        "So, as you see, in the space of a few years, creating computer vision classification models has gone from \"so hard it's a joke\" to \"trivially easy and free\"!\n",
        "\n",
        "It's not just in computer vision. Thanks to deep learning, computers can now do many things which seemed impossible just a few years ago, including [creating amazing artworks](https://openai.com/dall-e-2/), and [explaining jokes](https://www.datanami.com/2022/04/22/googles-massive-new-language-model-can-explain-jokes/). It's moving so fast that even experts in the field have trouble predicting how it's going to impact society in the coming years.\n",
        "\n",
        "One thing is clear -- it's important that we all do our best to understand this technology, because otherwise we'll get left behind!"
      ],
      "metadata": {
        "id": "qlVGofWSvOsz"
      }
    },
    {
      "cell_type": "markdown",
      "source": [
        "Now it's your turn. Click \"Copy & Edit\" and try creating your own image classifier using your own image searches!\n",
        "\n",
        "If you enjoyed this, please consider clicking the \"upvote\" button in the top-right -- it's very encouraging to us notebook authors to know when people appreciate our work."
      ],
      "metadata": {
        "id": "Nf04wssrvOsz"
      }
    },
    {
      "cell_type": "code",
      "source": [],
      "metadata": {
        "id": "x1ih1RIvvOsz"
      },
      "execution_count": null,
      "outputs": []
    }
  ]
}